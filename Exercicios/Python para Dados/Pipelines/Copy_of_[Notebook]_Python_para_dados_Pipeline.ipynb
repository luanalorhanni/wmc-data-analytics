{
  "nbformat": 4,
  "nbformat_minor": 0,
  "metadata": {
    "colab": {
      "provenance": []
    },
    "kernelspec": {
      "name": "python3",
      "display_name": "Python 3"
    },
    "language_info": {
      "name": "python"
    }
  },
  "cells": [
    {
      "cell_type": "code",
      "source": [
        "import requests\n",
        "import numpy as np\n",
        "import pandas as pd\n",
        "import logging"
      ],
      "metadata": {
        "id": "1qjOSZhBFu3z"
      },
      "execution_count": 1,
      "outputs": []
    },
    {
      "cell_type": "code",
      "source": [
        "! python -version"
      ],
      "metadata": {
        "id": "HxxNUieYyunE",
        "outputId": "ef7b1a30-c344-47d6-c956-1a30c605eff8",
        "colab": {
          "base_uri": "https://localhost:8080/"
        }
      },
      "execution_count": 2,
      "outputs": [
        {
          "output_type": "stream",
          "name": "stdout",
          "text": [
            "Unknown option: -e\n",
            "usage: python3 [option] ... [-c cmd | -m mod | file | -] [arg] ...\n",
            "Try `python -h' for more information.\n"
          ]
        }
      ]
    },
    {
      "cell_type": "markdown",
      "source": [
        "### Minha API"
      ],
      "metadata": {
        "id": "3sdftdAfbT1w"
      }
    },
    {
      "cell_type": "code",
      "source": [
        "headers = {\"chave-api-dados\" : \"insira_seu_token\"}\n"
      ],
      "metadata": {
        "id": "ambrjpMZbSfm"
      },
      "execution_count": 3,
      "outputs": []
    },
    {
      "cell_type": "markdown",
      "source": [
        "### Acesso ao portal da transparência do governo federal playground para a criação da extração"
      ],
      "metadata": {
        "id": "rPD2DjJ7bZzC"
      }
    },
    {
      "cell_type": "code",
      "execution_count": 4,
      "metadata": {
        "id": "1BirBE6LFK_0"
      },
      "outputs": [],
      "source": [
        "url = 'https://api.portaldatransparencia.gov.br/api-de-dados/emendas?ano=2022&pagina=2'\n",
        "\n",
        "resposta_ = requests.get(url, headers=headers)"
      ]
    },
    {
      "cell_type": "code",
      "source": [
        "data1 = resposta_.json()"
      ],
      "metadata": {
        "id": "urVqSc0FWdH2"
      },
      "execution_count": 5,
      "outputs": []
    },
    {
      "cell_type": "code",
      "source": [
        "data2 = resposta_.json()"
      ],
      "metadata": {
        "id": "xRdV044FXJCv"
      },
      "execution_count": 6,
      "outputs": []
    },
    {
      "cell_type": "code",
      "source": [
        "url = 'https://api.portaldatransparencia.gov.br/api-de-dados/emendas?ano=2022&pagina='"
      ],
      "metadata": {
        "id": "TDpKhDqQXSNX"
      },
      "execution_count": 7,
      "outputs": []
    },
    {
      "cell_type": "code",
      "source": [
        "# Emendas página até 408\n",
        "\n",
        "list_urls = [url + str(i) for i in range(1, 409)]"
      ],
      "metadata": {
        "id": "WFhokEjYXVbn"
      },
      "execution_count": 8,
      "outputs": []
    },
    {
      "cell_type": "code",
      "source": [
        "list_urls[:2]"
      ],
      "metadata": {
        "colab": {
          "base_uri": "https://localhost:8080/"
        },
        "id": "cgSiDENPa5iE",
        "outputId": "af699eb6-69bb-457e-9e26-3613e7625a9e"
      },
      "execution_count": 9,
      "outputs": [
        {
          "output_type": "execute_result",
          "data": {
            "text/plain": [
              "['https://api.portaldatransparencia.gov.br/api-de-dados/emendas?ano=2022&pagina=1',\n",
              " 'https://api.portaldatransparencia.gov.br/api-de-dados/emendas?ano=2022&pagina=2']"
            ]
          },
          "metadata": {},
          "execution_count": 9
        }
      ]
    },
    {
      "cell_type": "code",
      "source": [
        "# passando a lista para um array\n",
        "arr_urls = np.asarray(list_urls)"
      ],
      "metadata": {
        "id": "Rrw_C4KqYtWV"
      },
      "execution_count": 10,
      "outputs": []
    },
    {
      "cell_type": "code",
      "source": [
        "vec_run = np.vectorize(run_request)\n",
        "\n",
        "arr_responses = vec_run(arr_urls)"
      ],
      "metadata": {
        "id": "eCS2EpCzYI8I",
        "outputId": "3964490f-952f-43da-a8ce-5424a10885e3",
        "colab": {
          "base_uri": "https://localhost:8080/",
          "height": 176
        }
      },
      "execution_count": 11,
      "outputs": [
        {
          "output_type": "error",
          "ename": "NameError",
          "evalue": "name 'run_request' is not defined",
          "traceback": [
            "\u001b[0;31m---------------------------------------------------------------------------\u001b[0m",
            "\u001b[0;31mNameError\u001b[0m                                 Traceback (most recent call last)",
            "\u001b[0;32m<ipython-input-11-6765f0a363be>\u001b[0m in \u001b[0;36m<cell line: 1>\u001b[0;34m()\u001b[0m\n\u001b[0;32m----> 1\u001b[0;31m \u001b[0mvec_run\u001b[0m \u001b[0;34m=\u001b[0m \u001b[0mnp\u001b[0m\u001b[0;34m.\u001b[0m\u001b[0mvectorize\u001b[0m\u001b[0;34m(\u001b[0m\u001b[0mrun_request\u001b[0m\u001b[0;34m)\u001b[0m\u001b[0;34m\u001b[0m\u001b[0;34m\u001b[0m\u001b[0m\n\u001b[0m\u001b[1;32m      2\u001b[0m \u001b[0;34m\u001b[0m\u001b[0m\n\u001b[1;32m      3\u001b[0m \u001b[0marr_responses\u001b[0m \u001b[0;34m=\u001b[0m \u001b[0mvec_run\u001b[0m\u001b[0;34m(\u001b[0m\u001b[0marr_urls\u001b[0m\u001b[0;34m)\u001b[0m\u001b[0;34m\u001b[0m\u001b[0;34m\u001b[0m\u001b[0m\n",
            "\u001b[0;31mNameError\u001b[0m: name 'run_request' is not defined"
          ]
        }
      ]
    },
    {
      "cell_type": "code",
      "source": [
        "arr_responses = arr_responses.tolist()"
      ],
      "metadata": {
        "id": "iZePpsadZrP1"
      },
      "execution_count": null,
      "outputs": []
    },
    {
      "cell_type": "code",
      "source": [
        "arr_responses[1]"
      ],
      "metadata": {
        "id": "FXzbFe-DaEY-"
      },
      "execution_count": null,
      "outputs": []
    },
    {
      "cell_type": "code",
      "source": [
        "reposta = np.concatenate(arr_responses).tolist()"
      ],
      "metadata": {
        "id": "v5Jo4BabaJzo"
      },
      "execution_count": null,
      "outputs": []
    },
    {
      "cell_type": "code",
      "source": [
        "df = pd.DataFrame(reposta)"
      ],
      "metadata": {
        "id": "TkfoNnHZbW4e"
      },
      "execution_count": null,
      "outputs": []
    },
    {
      "cell_type": "code",
      "source": [
        "df"
      ],
      "metadata": {
        "id": "meYl9ev0cB9d"
      },
      "execution_count": null,
      "outputs": []
    },
    {
      "cell_type": "code",
      "source": [
        "df_area = df[['funcao', 'valorEmpenhado']]\n",
        "df_area['valorEmpenhado'] = df_area['valorEmpenhado'].str.replace('.', '').str.replace(',', '.').astype(np.float64)"
      ],
      "metadata": {
        "id": "pJ0qfB7pcXCy"
      },
      "execution_count": null,
      "outputs": []
    },
    {
      "cell_type": "code",
      "source": [
        "df_area.info()"
      ],
      "metadata": {
        "id": "DYQDCw5SfR7c"
      },
      "execution_count": null,
      "outputs": []
    },
    {
      "cell_type": "code",
      "source": [
        "agg_area = df_area.groupby('funcao').sum('valorEmpenhado')"
      ],
      "metadata": {
        "id": "d7dFiXOkgdkk"
      },
      "execution_count": null,
      "outputs": []
    },
    {
      "cell_type": "code",
      "source": [
        "agg_area"
      ],
      "metadata": {
        "id": "SEicrxEEo4QC"
      },
      "execution_count": null,
      "outputs": []
    },
    {
      "cell_type": "code",
      "source": [
        "1.380082e+09/23670334710.190002\n"
      ],
      "metadata": {
        "id": "ifcQjfzspIvN"
      },
      "execution_count": null,
      "outputs": []
    },
    {
      "cell_type": "code",
      "source": [
        "agg_area = agg_area['valorEmpenhado']/df_area['valorEmpenhado'].sum()"
      ],
      "metadata": {
        "id": "bH7FMuC4opDP"
      },
      "execution_count": null,
      "outputs": []
    },
    {
      "cell_type": "code",
      "source": [
        "agg_area = agg_area.reset_index()"
      ],
      "metadata": {
        "id": "4Ocqhq7Apdre"
      },
      "execution_count": null,
      "outputs": []
    },
    {
      "cell_type": "code",
      "source": [
        "agg_area.to_csv('distribuicao_empenho_area_2022.csv')"
      ],
      "metadata": {
        "id": "UTDe5n4IqDnw"
      },
      "execution_count": null,
      "outputs": []
    },
    {
      "cell_type": "markdown",
      "source": [
        "## Criação de ETL e métodos organizados para monitoramento e automação"
      ],
      "metadata": {
        "id": "hXsj9Cn8t-ud"
      }
    },
    {
      "cell_type": "code",
      "source": [
        "logging.basicConfig(level=logging.INFO, format='%(asctime)s - %(levelname)s - %(message)s')\n"
      ],
      "metadata": {
        "id": "Xa9OYTTwvqtY"
      },
      "execution_count": null,
      "outputs": []
    },
    {
      "cell_type": "code",
      "source": [
        "def run_request(url_):\n",
        "  resposta = requests.get(url_, headers=headers)\n",
        "  return resposta.json()"
      ],
      "metadata": {
        "id": "uIMEJoIYtGYT"
      },
      "execution_count": null,
      "outputs": []
    },
    {
      "cell_type": "code",
      "source": [
        "def coletar_dados(url):\n",
        "  logging.info('Pegou URL para a criação das diferentes URLs criando uma para cada página')\n",
        "  list_urls = [url + str(i) for i in range(1, 6)]\n",
        "  arr_urls = np.asarray(list_urls)\n",
        "\n",
        "  vec_run = np.vectorize(run_request)\n",
        "  logging.info('Fazendo uma requisição para cada URL')\n",
        "  arr_responses = vec_run(arr_urls)\n",
        "  logging.info('Requisições concluídas')\n",
        "  arr_responses = arr_responses.tolist()\n",
        "  reposta = np.concatenate(arr_responses).tolist()\n",
        "  return reposta"
      ],
      "metadata": {
        "id": "fIz17ziFtGbB"
      },
      "execution_count": null,
      "outputs": []
    },
    {
      "cell_type": "code",
      "source": [
        "def transformar_dado(dado):\n",
        "  logging.info('Criando dataframe')\n",
        "  # Insira o código para a criação do dataframe a partir do parâmetro 'dado'\n",
        "  # A variável deve ter o nome df_area\n",
        "\n",
        "\n",
        "  # Insita o log sobre o que está sendo executado, utilizando 'logging.info'\n",
        "\n",
        "  df_area = df[['funcao', 'valorEmpenhado']]\n",
        "\n",
        "  # Insita o log sobre o que está sendo executado, utilizando 'logging.info'\n",
        "  df_area['valorEmpenhado'] = df_area['valorEmpenhado'].str.replace('.', '').str.replace(',', '.').astype(np.float64)\n",
        "\n",
        "  logging.info('Transformando dado string -> float')\n",
        "  agg_area = df_area.groupby('funcao').sum('valorEmpenhado')\n",
        "\n",
        "  logging.info('Transformando dados para retirar proporção em porcentagem')\n",
        "  agg_area = agg_area['valorEmpenhado']/df_area['valorEmpenhado'].sum()\n",
        "\n",
        "  # Insira o código para reset de index de agg_area, usando reset_index()\n",
        "\n",
        "  return agg_area"
      ],
      "metadata": {
        "id": "q7jQL0MNro7X"
      },
      "execution_count": null,
      "outputs": []
    },
    {
      "cell_type": "code",
      "source": [
        "def carga(dado):\n",
        "  # crie um arquivo CSV com p parâmetro 'dado', o nome do arquivo deve ser 'distribuicao_empenho_area_20220.csv'\n",
        "  # esse método não tem retorno\n"
      ],
      "metadata": {
        "id": "_o-M9PmhqYrb"
      },
      "execution_count": null,
      "outputs": []
    },
    {
      "cell_type": "code",
      "source": [
        "# Escreva aqui quais são os passos para a extração dos dados e processamento\n",
        "# Este método não tem retorno, no final será gerado um CSV com os dados a serem salvos\n",
        "\n",
        "def etl():\n",
        "  url = 'https://api.portaldatransparencia.gov.br/api-de-dados/emendas?ano=2022&pagina='\n",
        "  # colete os dados\n",
        "  # transforme os dados\n",
        "  # salve os dados\n"
      ],
      "metadata": {
        "id": "kJN475pNtLGi"
      },
      "execution_count": null,
      "outputs": []
    },
    {
      "cell_type": "code",
      "source": [
        "etl()"
      ],
      "metadata": {
        "id": "q1fI6LHlq967"
      },
      "execution_count": null,
      "outputs": []
    },
    {
      "cell_type": "code",
      "source": [],
      "metadata": {
        "id": "nZd3FONnq-wX"
      },
      "execution_count": null,
      "outputs": []
    }
  ]
}