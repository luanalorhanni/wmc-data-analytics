{
 "cells": [
  {
   "cell_type": "markdown",
   "metadata": {},
   "source": [
    "<b>Exercícios - Numpy - WoMakersCode - Data Analytics </b> \n",
    " | Aluna - Luana Lorhanni"
   ]
  },
  {
   "cell_type": "markdown",
   "metadata": {},
   "source": [
    "<h2> Introdutórios"
   ]
  },
  {
   "cell_type": "code",
   "execution_count": 2,
   "metadata": {},
   "outputs": [],
   "source": [
    "import numpy as np"
   ]
  },
  {
   "cell_type": "markdown",
   "metadata": {},
   "source": [
    "<b>1.</b> Crie um array com 4 linhas e 3 colunas com valores aleatórios."
   ]
  },
  {
   "cell_type": "code",
   "execution_count": 3,
   "metadata": {},
   "outputs": [
    {
     "data": {
      "text/plain": [
       "array([[0.89129275, 0.79962442, 0.28393644],\n",
       "       [0.63162917, 0.13094397, 0.6332394 ],\n",
       "       [0.18571941, 0.49909221, 0.72477171],\n",
       "       [0.43412576, 0.19620892, 0.13780592]])"
      ]
     },
     "execution_count": 3,
     "metadata": {},
     "output_type": "execute_result"
    }
   ],
   "source": [
    "np.random.random((4,3))"
   ]
  },
  {
   "cell_type": "markdown",
   "metadata": {},
   "source": [
    "<b>2.</b> Crie um array com 5 colunas e 10 linhas inicializados com zeros."
   ]
  },
  {
   "cell_type": "code",
   "execution_count": 4,
   "metadata": {},
   "outputs": [
    {
     "data": {
      "text/plain": [
       "array([[0., 0., 0., 0., 0.],\n",
       "       [0., 0., 0., 0., 0.],\n",
       "       [0., 0., 0., 0., 0.],\n",
       "       [0., 0., 0., 0., 0.],\n",
       "       [0., 0., 0., 0., 0.],\n",
       "       [0., 0., 0., 0., 0.],\n",
       "       [0., 0., 0., 0., 0.],\n",
       "       [0., 0., 0., 0., 0.],\n",
       "       [0., 0., 0., 0., 0.],\n",
       "       [0., 0., 0., 0., 0.]])"
      ]
     },
     "execution_count": 4,
     "metadata": {},
     "output_type": "execute_result"
    }
   ],
   "source": [
    "np.zeros((10,5))"
   ]
  },
  {
   "cell_type": "markdown",
   "metadata": {},
   "source": [
    "<b>3.</b> Crie um array com valores inteiros, 3 linhas e 5 colunas com valores aleatórios."
   ]
  },
  {
   "cell_type": "code",
   "execution_count": 5,
   "metadata": {},
   "outputs": [
    {
     "data": {
      "text/plain": [
       "array([[15, 10, 28, 20, 12],\n",
       "       [25, 22, 13, 18, 12],\n",
       "       [18, 12, 18, 14, 16]])"
      ]
     },
     "execution_count": 5,
     "metadata": {},
     "output_type": "execute_result"
    }
   ],
   "source": [
    "#10 - limite inferior, 30 - limite superior\n",
    "#size - linhas e colunas\n",
    "np.random.randint(10, 30, size = (3,5))"
   ]
  },
  {
   "cell_type": "markdown",
   "metadata": {},
   "source": [
    "<b>4.</b> Crie um array que vá de 0 e 90 pulando de 4 em 4."
   ]
  },
  {
   "cell_type": "code",
   "execution_count": 6,
   "metadata": {},
   "outputs": [
    {
     "data": {
      "text/plain": [
       "array([[34, 88, 27, 20],\n",
       "       [17, 73,  7, 29],\n",
       "       [ 5, 62, 24,  2],\n",
       "       [29, 51, 41, 81]])"
      ]
     },
     "execution_count": 6,
     "metadata": {},
     "output_type": "execute_result"
    }
   ],
   "source": [
    "a90 = np.random.randint(1, 90, size = (4,4))\n",
    "a90"
   ]
  },
  {
   "cell_type": "markdown",
   "metadata": {},
   "source": [
    "<b>5.</b> Reduza o array (5, 7) para apenas uma dimensão."
   ]
  },
  {
   "cell_type": "code",
   "execution_count": 7,
   "metadata": {},
   "outputs": [
    {
     "data": {
      "text/plain": [
       "array([1.35741235e-01, 2.47341052e-01, 5.57702561e-02, 5.09563924e-01,\n",
       "       6.96078083e-01, 7.58238317e-01, 9.13686472e-01, 7.14960749e-01,\n",
       "       3.05606354e-01, 4.24835392e-01, 2.37846444e-01, 7.91918859e-01,\n",
       "       6.75553372e-01, 2.85061640e-01, 8.12445399e-01, 8.77723611e-02,\n",
       "       7.37043150e-01, 8.63622193e-01, 3.12433272e-01, 4.87020541e-01,\n",
       "       1.67202847e-01, 2.88945581e-01, 8.88864456e-01, 6.84456394e-04,\n",
       "       7.38153598e-01, 5.96980593e-01, 6.49860164e-01, 9.45485272e-01,\n",
       "       7.35451893e-01, 6.49117311e-01, 8.81777947e-01, 6.17705085e-01,\n",
       "       1.41964355e-01, 6.51565882e-01, 1.63145671e-01])"
      ]
     },
     "execution_count": 7,
     "metadata": {},
     "output_type": "execute_result"
    }
   ],
   "source": [
    "a57 = np.random.random((5, 7))\n",
    "a57 = a57.flatten()\n",
    "a57"
   ]
  },
  {
   "cell_type": "markdown",
   "metadata": {},
   "source": [
    "<b>6.</b> Considerando que você é uma organizadora de um jogo de bingo. Crie um array que irá representar a cartilha desses jogos de bingo. os números das suas cartelas variam entre 1 e 30, e você terá 10 participantes. Cada cartela terá 12 números (4,3). Crie um array que representa esse jogo.\n"
   ]
  },
  {
   "cell_type": "code",
   "execution_count": 8,
   "metadata": {},
   "outputs": [
    {
     "data": {
      "text/plain": [
       "array([[[ 6, 22,  7],\n",
       "        [14, 14, 19],\n",
       "        [ 6, 29, 18],\n",
       "        [29, 16, 17]],\n",
       "\n",
       "       [[21, 16, 10],\n",
       "        [ 1,  1,  1],\n",
       "        [23, 27,  7],\n",
       "        [10, 23, 16]],\n",
       "\n",
       "       [[27, 24, 28],\n",
       "        [27, 10, 11],\n",
       "        [27,  2, 17],\n",
       "        [21,  2, 30]],\n",
       "\n",
       "       [[ 7, 22,  5],\n",
       "        [ 4, 17, 30],\n",
       "        [21, 17, 25],\n",
       "        [ 8,  4,  8]],\n",
       "\n",
       "       [[ 3, 29,  7],\n",
       "        [23,  7, 18],\n",
       "        [26, 15, 24],\n",
       "        [ 9, 20, 11]],\n",
       "\n",
       "       [[30, 22,  2],\n",
       "        [ 9, 10, 13],\n",
       "        [23, 21,  5],\n",
       "        [13, 25, 24]],\n",
       "\n",
       "       [[14, 18, 21],\n",
       "        [15, 15, 16],\n",
       "        [15, 22, 30],\n",
       "        [27,  7, 29]],\n",
       "\n",
       "       [[11, 24, 26],\n",
       "        [ 6, 26, 25],\n",
       "        [ 3, 17, 29],\n",
       "        [10, 20, 25]],\n",
       "\n",
       "       [[ 3,  2,  2],\n",
       "        [13, 28,  4],\n",
       "        [ 9,  1, 28],\n",
       "        [ 8,  3, 24]],\n",
       "\n",
       "       [[16,  9,  1],\n",
       "        [ 7, 21,  7],\n",
       "        [23,  7, 23],\n",
       "        [18,  9, 16]]])"
      ]
     },
     "execution_count": 8,
     "metadata": {},
     "output_type": "execute_result"
    }
   ],
   "source": [
    "bingo = np.random.randint(1, 31, size = (10, 4, 3))\n",
    "bingo #array com 3 dimensões, com 10 arrays dentro dele formatados em 4 linhas e 3 colunas"
   ]
  },
  {
   "cell_type": "markdown",
   "metadata": {},
   "source": [
    "<b>7.</b> Faça o reshape das suas cartelas para que haja 5 cartelas de 4 linhas e 6 colunas."
   ]
  },
  {
   "cell_type": "code",
   "execution_count": 9,
   "metadata": {},
   "outputs": [
    {
     "data": {
      "text/plain": [
       "array([[[ 6, 22,  7, 14, 14, 19],\n",
       "        [ 6, 29, 18, 29, 16, 17],\n",
       "        [21, 16, 10,  1,  1,  1],\n",
       "        [23, 27,  7, 10, 23, 16]],\n",
       "\n",
       "       [[27, 24, 28, 27, 10, 11],\n",
       "        [27,  2, 17, 21,  2, 30],\n",
       "        [ 7, 22,  5,  4, 17, 30],\n",
       "        [21, 17, 25,  8,  4,  8]],\n",
       "\n",
       "       [[ 3, 29,  7, 23,  7, 18],\n",
       "        [26, 15, 24,  9, 20, 11],\n",
       "        [30, 22,  2,  9, 10, 13],\n",
       "        [23, 21,  5, 13, 25, 24]],\n",
       "\n",
       "       [[14, 18, 21, 15, 15, 16],\n",
       "        [15, 22, 30, 27,  7, 29],\n",
       "        [11, 24, 26,  6, 26, 25],\n",
       "        [ 3, 17, 29, 10, 20, 25]],\n",
       "\n",
       "       [[ 3,  2,  2, 13, 28,  4],\n",
       "        [ 9,  1, 28,  8,  3, 24],\n",
       "        [16,  9,  1,  7, 21,  7],\n",
       "        [23,  7, 23, 18,  9, 16]]])"
      ]
     },
     "execution_count": 9,
     "metadata": {},
     "output_type": "execute_result"
    }
   ],
   "source": [
    "#5 - quantidade de arrays\n",
    "bingo.reshape((5, 4, 6))"
   ]
  },
  {
   "cell_type": "markdown",
   "metadata": {},
   "source": [
    "<h2>Manipulando Arrays"
   ]
  },
  {
   "cell_type": "markdown",
   "metadata": {},
   "source": [
    "<b>8.</b> Explorando Ecossistemas:\n",
    "</p>Como bióloga marinha, me encontrei em uma expedição nas\n",
    "profundezas do Oceano Pacífico, onde estávamos estudando a\n",
    "biodiversidade e a saúde dos recifes de coral. O catálogo abaixo\n",
    "demonstra dados das espécies encontradas, considere a seguinte\n",
    "ordem de colunas: <b>ID da espécie, quantidade de representantes encontrados, profundeza, tamanho médio da espécie</b>"
   ]
  },
  {
   "cell_type": "code",
   "execution_count": 10,
   "metadata": {},
   "outputs": [
    {
     "data": {
      "text/plain": [
       "array([[747,  89,  33,   5],\n",
       "       [623, 123,  32,  13],\n",
       "       [501,  22,  49,   2],\n",
       "       [116, 101,  42,  10],\n",
       "       [297,  56,  69,  22],\n",
       "       [613,  64,  27,   7],\n",
       "       [295,  84,  29,  14],\n",
       "       [692, 105,  72,  16],\n",
       "       [229, 103,  35,   5],\n",
       "       [374, 124,  70,   1]])"
      ]
     },
     "execution_count": 10,
     "metadata": {},
     "output_type": "execute_result"
    }
   ],
   "source": [
    "especies = np.array([[747, 89, 33, 5],\n",
    "                    [623, 123, 32, 13],\n",
    "                    [501, 22, 49, 2],\n",
    "                    [116, 101, 42, 10],\n",
    "                    [297, 56, 69, 22],\n",
    "                    [613, 64, 27, 7],\n",
    "                    [295, 84, 29, 14],\n",
    "                    [692, 105, 72, 16],\n",
    "                    [229, 103, 35, 5],\n",
    "                    [374, 124, 70, 1]])\n",
    "especies"
   ]
  },
  {
   "cell_type": "markdown",
   "metadata": {},
   "source": [
    "<b>a)</b> Selecione a segunda coluna com a quantidade de espécies\n",
    "encontradas e adicione em um array as <b>qtd_especies.</b>"
   ]
  },
  {
   "cell_type": "code",
   "execution_count": 11,
   "metadata": {},
   "outputs": [
    {
     "data": {
      "text/plain": [
       "array([ 89, 123,  22, 101,  56,  64,  84, 105, 103, 124])"
      ]
     },
     "execution_count": 11,
     "metadata": {},
     "output_type": "execute_result"
    }
   ],
   "source": [
    "qtd_especies =  especies[:, 1]\n",
    "qtd_especies"
   ]
  },
  {
   "cell_type": "markdown",
   "metadata": {},
   "source": [
    "<b>b)</b> De <b>qtd_especies.</b> selecione apenas as primeiras 3 quantidades e print."
   ]
  },
  {
   "cell_type": "code",
   "execution_count": 12,
   "metadata": {},
   "outputs": [
    {
     "data": {
      "text/plain": [
       "array([ 89, 123,  22])"
      ]
     },
     "execution_count": 12,
     "metadata": {},
     "output_type": "execute_result"
    }
   ],
   "source": [
    "qtd_especies[:3]"
   ]
  },
  {
   "cell_type": "markdown",
   "metadata": {},
   "source": [
    "<b>c)</b> Print as 5 últimas quantidades de espécies."
   ]
  },
  {
   "cell_type": "code",
   "execution_count": 13,
   "metadata": {},
   "outputs": [
    {
     "name": "stdout",
     "output_type": "stream",
     "text": [
      "(10, 4)\n"
     ]
    },
    {
     "data": {
      "text/plain": [
       "array([ 64,  84, 105, 103, 124])"
      ]
     },
     "execution_count": 13,
     "metadata": {},
     "output_type": "execute_result"
    }
   ],
   "source": [
    "print(especies.shape) #Sabendo que temos  10 linhas com 4 colunas\n",
    "qtd_especies[-5:] #Selecionar os ultimas 5"
   ]
  },
  {
   "cell_type": "markdown",
   "metadata": {},
   "source": [
    "<b>d)</b> Crie um array que contenha apenas os tamanhos das espécies e\n",
    "ordene por ordem crescente."
   ]
  },
  {
   "cell_type": "code",
   "execution_count": 14,
   "metadata": {},
   "outputs": [
    {
     "data": {
      "text/plain": [
       "array([22, 16, 14, 13, 10,  7,  5,  5,  2,  1])"
      ]
     },
     "execution_count": 14,
     "metadata": {},
     "output_type": "execute_result"
    }
   ],
   "source": [
    "#Vai fazer a ordenação da coluna 3, na ordem invertida\n",
    "tmh_especies = np.sort(especies[:, 3])[::-1]\n",
    "tmh_especies"
   ]
  },
  {
   "cell_type": "markdown",
   "metadata": {},
   "source": [
    "<b>e)</b> Usando um index boolean crie um array que contém os dados da\n",
    "maior espécie encontrada (considerando o seu tamanho), esse\n",
    "valor corresponde ao valor 22."
   ]
  },
  {
   "cell_type": "code",
   "execution_count": 54,
   "metadata": {},
   "outputs": [
    {
     "data": {
      "text/plain": [
       "array([297,  56,  69,  22])"
      ]
     },
     "execution_count": 54,
     "metadata": {},
     "output_type": "execute_result"
    }
   ],
   "source": [
    "np.where(especies[:,3] == 22) #Retorna que na linha 4 está os dados do tamanho 22\n",
    "tmh_22 = especies[4]\n",
    "tmh_22"
   ]
  },
  {
   "cell_type": "markdown",
   "metadata": {},
   "source": [
    "<b>f)</b> Usando fency index faça um array que contém apenas dados da\n",
    "espécie com ID 297."
   ]
  },
  {
   "cell_type": "code",
   "execution_count": 42,
   "metadata": {},
   "outputs": [
    {
     "name": "stdout",
     "output_type": "stream",
     "text": [
      "[[297  56  69  22]]\n"
     ]
    }
   ],
   "source": [
    "#Selecionará de todos os elementos a linha que contem 297\n",
    "id297 = especies[especies[:, 0] == 297]\n",
    "print(id297)"
   ]
  },
  {
   "cell_type": "markdown",
   "metadata": {},
   "source": [
    "<b>g)</b> Usando <b>np.where()</b> faça um array com a linha com dados\n",
    "correspondentes a espécie com 105 representantes\n",
    "encontrados."
   ]
  },
  {
   "cell_type": "code",
   "execution_count": 45,
   "metadata": {},
   "outputs": [
    {
     "data": {
      "text/plain": [
       "array([692, 105,  72,  16])"
      ]
     },
     "execution_count": 45,
     "metadata": {},
     "output_type": "execute_result"
    }
   ],
   "source": [
    "np.where(especies[:, 1] == 105)\n",
    "especies[7]"
   ]
  },
  {
   "cell_type": "markdown",
   "metadata": {},
   "source": [
    "<b>h)</b> Considere a profundeza em que o espécie foi encontrada\n",
    "substitua valores maiores que 60 com \"Profundo”"
   ]
  },
  {
   "cell_type": "code",
   "execution_count": 23,
   "metadata": {},
   "outputs": [
    {
     "data": {
      "text/plain": [
       "array(['33', '32', '49', '42', 'Profundo', '27', '29', 'Profundo', '35',\n",
       "       'Profundo'], dtype='<U11')"
      ]
     },
     "execution_count": 23,
     "metadata": {},
     "output_type": "execute_result"
    }
   ],
   "source": [
    "profundeza = especies[:,2]\n",
    "np.where(profundeza > 60, \"Profundo\", profundeza)\n",
    "#np.where()"
   ]
  },
  {
   "cell_type": "markdown",
   "metadata": {},
   "source": [
    "<b>i)</b> Adicione mais 2 espécies ao array: </p>[[204, 10, 40, 12], </p>[392, 11, 81, 11]]"
   ]
  },
  {
   "cell_type": "code",
   "execution_count": null,
   "metadata": {},
   "outputs": [],
   "source": [
    "especies"
   ]
  },
  {
   "cell_type": "markdown",
   "metadata": {},
   "source": [
    "<b>j)</b> Adicione mais uma coluna na no array original agora com o\n",
    "número de espécies encontradas com que indica se o animal\n",
    "enxerga ou não: </p>[0, 1, 0, 0, 0, 0, 1, 0, 1, 1, 0]."
   ]
  },
  {
   "cell_type": "markdown",
   "metadata": {},
   "source": [
    "<h2> Cáculo com Array"
   ]
  },
  {
   "cell_type": "markdown",
   "metadata": {},
   "source": [
    "<b>1.</b> Considerando o array abaixo, responda:"
   ]
  },
  {
   "cell_type": "code",
   "execution_count": null,
   "metadata": {},
   "outputs": [],
   "source": [
    "acidentes = np.array([[1, 3, 2],\n",
    "    [0, 1, 0],\n",
    "    [2, 1, 4],\n",
    "    [0, 0, 0],\n",
    "    [1, 1, 0]])"
   ]
  },
  {
   "cell_type": "markdown",
   "metadata": {},
   "source": [
    "<b>a)</b> O cliente que teve acidente abaixo da média nos últimos 2 anos, ganhará um desconto no seu seguro. Identifique-os."
   ]
  },
  {
   "cell_type": "markdown",
   "metadata": {},
   "source": [
    "<b>b)</b> Qual cliente teve pelo menos 2 anos sem cometer acidentes?"
   ]
  },
  {
   "cell_type": "markdown",
   "metadata": {},
   "source": [
    "<b>c)</b> Uma professora quer que seus alunos apliquem a função (3x + 2y + x*y) em um conjunto de dados. Ela dá dois arrays aos estudantes e\n",
    "pede que seja feita essa operação."
   ]
  },
  {
   "cell_type": "markdown",
   "metadata": {},
   "source": [
    "<b>d)</b> A mesma professora percebeu que houve um erro em todas as provas dos estudantes e esqueceu de anotar a nota de trabalhos\n",
    "apresentados durante o semestre. Já que foi feito em grupo ela vai\n",
    "adicionar a mesma nota para todos os estudantes. No array cada\n",
    "estudante representa uma linha e cada coluna uma prova. Adicione\n",
    "para cada prova de cada estudante os valores: 1, 2, 1."
   ]
  }
 ],
 "metadata": {
  "kernelspec": {
   "display_name": "base",
   "language": "python",
   "name": "python3"
  },
  "language_info": {
   "codemirror_mode": {
    "name": "ipython",
    "version": 3
   },
   "file_extension": ".py",
   "mimetype": "text/x-python",
   "name": "python",
   "nbconvert_exporter": "python",
   "pygments_lexer": "ipython3",
   "version": "3.11.7"
  }
 },
 "nbformat": 4,
 "nbformat_minor": 2
}
