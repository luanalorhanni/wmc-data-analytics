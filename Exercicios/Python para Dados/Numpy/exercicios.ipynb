{
 "cells": [
  {
   "cell_type": "markdown",
   "metadata": {},
   "source": [
    "<b>Exercícios - Numpy - WoMakersCode - Data Analytics </b> \n",
    " | Aluna - Luana Lorhanni"
   ]
  },
  {
   "cell_type": "markdown",
   "metadata": {},
   "source": [
    "<h2> Introdutórios"
   ]
  },
  {
   "cell_type": "code",
   "execution_count": 2,
   "metadata": {},
   "outputs": [],
   "source": [
    "import numpy as np"
   ]
  },
  {
   "cell_type": "markdown",
   "metadata": {},
   "source": [
    "<b>1.</b> Crie um array com 4 linhas e 3 colunas com valores aleatórios."
   ]
  },
  {
   "cell_type": "code",
   "execution_count": 3,
   "metadata": {},
   "outputs": [
    {
     "data": {
      "text/plain": [
       "array([[0.64156208, 0.86999157, 0.79277245],\n",
       "       [0.72290723, 0.0410744 , 0.32139267],\n",
       "       [0.55570429, 0.64934232, 0.9167633 ],\n",
       "       [0.07680167, 0.9712079 , 0.42384059]])"
      ]
     },
     "execution_count": 3,
     "metadata": {},
     "output_type": "execute_result"
    }
   ],
   "source": [
    "np.random.random((4,3))"
   ]
  },
  {
   "cell_type": "markdown",
   "metadata": {},
   "source": [
    "<b>2.</b> Crie um array com 5 colunas e 10 linhas inicializados com zeros."
   ]
  },
  {
   "cell_type": "code",
   "execution_count": 4,
   "metadata": {},
   "outputs": [
    {
     "data": {
      "text/plain": [
       "array([[0., 0., 0., 0., 0.],\n",
       "       [0., 0., 0., 0., 0.],\n",
       "       [0., 0., 0., 0., 0.],\n",
       "       [0., 0., 0., 0., 0.],\n",
       "       [0., 0., 0., 0., 0.],\n",
       "       [0., 0., 0., 0., 0.],\n",
       "       [0., 0., 0., 0., 0.],\n",
       "       [0., 0., 0., 0., 0.],\n",
       "       [0., 0., 0., 0., 0.],\n",
       "       [0., 0., 0., 0., 0.]])"
      ]
     },
     "execution_count": 4,
     "metadata": {},
     "output_type": "execute_result"
    }
   ],
   "source": [
    "np.zeros((10,5))"
   ]
  },
  {
   "cell_type": "markdown",
   "metadata": {},
   "source": [
    "<b>3.</b> Crie um array com valores inteiros, 3 linhas e 5 colunas com valores aleatórios."
   ]
  },
  {
   "cell_type": "code",
   "execution_count": 5,
   "metadata": {},
   "outputs": [
    {
     "data": {
      "text/plain": [
       "array([[25, 29, 25, 22, 26],\n",
       "       [17, 18, 29, 16, 15],\n",
       "       [13, 26, 14, 27, 10]])"
      ]
     },
     "execution_count": 5,
     "metadata": {},
     "output_type": "execute_result"
    }
   ],
   "source": [
    "#10 - limite inferior, 30 - limite superior\n",
    "#size - linhas e colunas\n",
    "np.random.randint(10, 30, size = (3,5))"
   ]
  },
  {
   "cell_type": "markdown",
   "metadata": {},
   "source": [
    "<b>4.</b> Crie um array que vá de 0 e 90 pulando de 4 em 4."
   ]
  },
  {
   "cell_type": "code",
   "execution_count": 6,
   "metadata": {},
   "outputs": [
    {
     "data": {
      "text/plain": [
       "array([[18, 67, 71,  1],\n",
       "       [31, 81, 44, 65],\n",
       "       [74, 78, 82,  4],\n",
       "       [37, 87, 85, 65]])"
      ]
     },
     "execution_count": 6,
     "metadata": {},
     "output_type": "execute_result"
    }
   ],
   "source": [
    "a90 = np.random.randint(1, 90, size = (4,4))\n",
    "a90"
   ]
  },
  {
   "cell_type": "markdown",
   "metadata": {},
   "source": [
    "<b>5.</b> Reduza o array (5, 7) para apenas uma dimensão."
   ]
  },
  {
   "cell_type": "code",
   "execution_count": 7,
   "metadata": {},
   "outputs": [
    {
     "data": {
      "text/plain": [
       "array([0.45156798, 0.01554294, 0.7441342 , 0.73364507, 0.35086906,\n",
       "       0.03702907, 0.64949563, 0.16362322, 0.99255082, 0.9397939 ,\n",
       "       0.53226188, 0.18786659, 0.29283255, 0.10435865, 0.09440146,\n",
       "       0.12569842, 0.10913792, 0.10806558, 0.02897089, 0.40333563,\n",
       "       0.93050498, 0.30546051, 0.58709287, 0.56051712, 0.87653021,\n",
       "       0.31525474, 0.99676894, 0.98435592, 0.43497138, 0.69495451,\n",
       "       0.4143805 , 0.36831997, 0.76725856, 0.98124233, 0.36092529])"
      ]
     },
     "execution_count": 7,
     "metadata": {},
     "output_type": "execute_result"
    }
   ],
   "source": [
    "a57 = np.random.random((5, 7))\n",
    "a57 = a57.flatten()\n",
    "a57"
   ]
  },
  {
   "cell_type": "markdown",
   "metadata": {},
   "source": [
    "<b>6.</b> Considerando que você é uma organizadora de um jogo de bingo. Crie um array que irá representar a cartilha desses jogos de bingo. os números das suas cartelas variam entre 1 e 30, e você terá 10 participantes. Cada cartela terá 12 números (4,3). Crie um array que representa esse jogo.\n"
   ]
  },
  {
   "cell_type": "code",
   "execution_count": 8,
   "metadata": {},
   "outputs": [
    {
     "data": {
      "text/plain": [
       "array([[[30, 12, 14],\n",
       "        [23, 16, 25],\n",
       "        [30, 23, 25],\n",
       "        [12, 16, 12]],\n",
       "\n",
       "       [[12, 30, 30],\n",
       "        [ 8, 21, 11],\n",
       "        [ 7, 30, 23],\n",
       "        [28,  2, 29]],\n",
       "\n",
       "       [[16, 21, 12],\n",
       "        [29,  4,  5],\n",
       "        [27, 19,  8],\n",
       "        [10,  4, 10]],\n",
       "\n",
       "       [[ 3, 13, 24],\n",
       "        [27, 27,  4],\n",
       "        [ 5, 28, 12],\n",
       "        [ 5, 11, 28]],\n",
       "\n",
       "       [[10, 30, 11],\n",
       "        [28,  9, 23],\n",
       "        [19, 11, 11],\n",
       "        [27, 29,  9]],\n",
       "\n",
       "       [[23, 25, 28],\n",
       "        [12, 22,  5],\n",
       "        [29, 17, 23],\n",
       "        [26, 15,  8]],\n",
       "\n",
       "       [[11, 15,  2],\n",
       "        [19,  5,  6],\n",
       "        [11, 25, 26],\n",
       "        [24,  8,  8]],\n",
       "\n",
       "       [[29,  1, 18],\n",
       "        [11, 10, 26],\n",
       "        [ 9, 18, 18],\n",
       "        [30, 10, 20]],\n",
       "\n",
       "       [[21, 24, 10],\n",
       "        [10, 15, 30],\n",
       "        [24, 10, 22],\n",
       "        [ 9, 29, 20]],\n",
       "\n",
       "       [[30, 13, 25],\n",
       "        [20, 14,  1],\n",
       "        [21, 22, 30],\n",
       "        [22,  3, 16]]])"
      ]
     },
     "execution_count": 8,
     "metadata": {},
     "output_type": "execute_result"
    }
   ],
   "source": [
    "bingo = np.random.randint(1, 31, size = (10, 4, 3))\n",
    "bingo #array com 3 dimensões, com 10 arrays dentro dele formatados em 4 linhas e 3 colunas"
   ]
  },
  {
   "cell_type": "markdown",
   "metadata": {},
   "source": [
    "<b>7.</b> Faça o reshape das suas cartelas para que haja 5 cartelas de 4 linhas e 6 colunas."
   ]
  },
  {
   "cell_type": "code",
   "execution_count": 9,
   "metadata": {},
   "outputs": [
    {
     "data": {
      "text/plain": [
       "array([[[30, 12, 14, 23, 16, 25],\n",
       "        [30, 23, 25, 12, 16, 12],\n",
       "        [12, 30, 30,  8, 21, 11],\n",
       "        [ 7, 30, 23, 28,  2, 29]],\n",
       "\n",
       "       [[16, 21, 12, 29,  4,  5],\n",
       "        [27, 19,  8, 10,  4, 10],\n",
       "        [ 3, 13, 24, 27, 27,  4],\n",
       "        [ 5, 28, 12,  5, 11, 28]],\n",
       "\n",
       "       [[10, 30, 11, 28,  9, 23],\n",
       "        [19, 11, 11, 27, 29,  9],\n",
       "        [23, 25, 28, 12, 22,  5],\n",
       "        [29, 17, 23, 26, 15,  8]],\n",
       "\n",
       "       [[11, 15,  2, 19,  5,  6],\n",
       "        [11, 25, 26, 24,  8,  8],\n",
       "        [29,  1, 18, 11, 10, 26],\n",
       "        [ 9, 18, 18, 30, 10, 20]],\n",
       "\n",
       "       [[21, 24, 10, 10, 15, 30],\n",
       "        [24, 10, 22,  9, 29, 20],\n",
       "        [30, 13, 25, 20, 14,  1],\n",
       "        [21, 22, 30, 22,  3, 16]]])"
      ]
     },
     "execution_count": 9,
     "metadata": {},
     "output_type": "execute_result"
    }
   ],
   "source": [
    "#5 - quantidade de arrays\n",
    "bingo.reshape((5, 4, 6))"
   ]
  },
  {
   "cell_type": "markdown",
   "metadata": {},
   "source": [
    "<h2>Manipulando Arrays"
   ]
  },
  {
   "cell_type": "markdown",
   "metadata": {},
   "source": [
    "<b>8.</b> Explorando Ecossistemas:\n",
    "</p>Como bióloga marinha, me encontrei em uma expedição nas\n",
    "profundezas do Oceano Pacífico, onde estávamos estudando a\n",
    "biodiversidade e a saúde dos recifes de coral. O catálogo abaixo\n",
    "demonstra dados das espécies encontradas, considere a seguinte\n",
    "ordem de colunas: <b>ID da espécie, quantidade de representantes encontrados, profundeza, tamanho médio da espécie</b>"
   ]
  },
  {
   "cell_type": "code",
   "execution_count": 10,
   "metadata": {},
   "outputs": [
    {
     "data": {
      "text/plain": [
       "array([[747,  89,  33,   5],\n",
       "       [623, 123,  32,  13],\n",
       "       [501,  22,  49,   2],\n",
       "       [116, 101,  42,  10],\n",
       "       [297,  56,  69,  22],\n",
       "       [613,  64,  27,   7],\n",
       "       [295,  84,  29,  14],\n",
       "       [692, 105,  72,  16],\n",
       "       [229, 103,  35,   5],\n",
       "       [374, 124,  70,   1]])"
      ]
     },
     "execution_count": 10,
     "metadata": {},
     "output_type": "execute_result"
    }
   ],
   "source": [
    "especies = np.array([[747, 89, 33, 5],\n",
    "                    [623, 123, 32, 13],\n",
    "                    [501, 22, 49, 2],\n",
    "                    [116, 101, 42, 10],\n",
    "                    [297, 56, 69, 22],\n",
    "                    [613, 64, 27, 7],\n",
    "                    [295, 84, 29, 14],\n",
    "                    [692, 105, 72, 16],\n",
    "                    [229, 103, 35, 5],\n",
    "                    [374, 124, 70, 1]])\n",
    "especies"
   ]
  },
  {
   "cell_type": "markdown",
   "metadata": {},
   "source": [
    "<b>a)</b> Selecione a segunda coluna com a quantidade de espécies\n",
    "encontradas e adicione em um array as <b>qtd_especies.</b>"
   ]
  },
  {
   "cell_type": "code",
   "execution_count": 11,
   "metadata": {},
   "outputs": [
    {
     "data": {
      "text/plain": [
       "array([ 89, 123,  22, 101,  56,  64,  84, 105, 103, 124])"
      ]
     },
     "execution_count": 11,
     "metadata": {},
     "output_type": "execute_result"
    }
   ],
   "source": [
    "qtd_especies =  especies[:, 1]\n",
    "qtd_especies"
   ]
  },
  {
   "cell_type": "markdown",
   "metadata": {},
   "source": [
    "<b>b)</b> De <b>qtd_especies.</b> selecione apenas as primeiras 3 quantidades e print."
   ]
  },
  {
   "cell_type": "code",
   "execution_count": 12,
   "metadata": {},
   "outputs": [
    {
     "data": {
      "text/plain": [
       "array([ 89, 123,  22])"
      ]
     },
     "execution_count": 12,
     "metadata": {},
     "output_type": "execute_result"
    }
   ],
   "source": [
    "qtd_especies[:3]"
   ]
  },
  {
   "cell_type": "markdown",
   "metadata": {},
   "source": [
    "<b>c)</b> Print as 5 últimas quantidades de espécies."
   ]
  },
  {
   "cell_type": "code",
   "execution_count": 13,
   "metadata": {},
   "outputs": [
    {
     "name": "stdout",
     "output_type": "stream",
     "text": [
      "(10, 4)\n"
     ]
    },
    {
     "data": {
      "text/plain": [
       "array([ 64,  84, 105, 103, 124])"
      ]
     },
     "execution_count": 13,
     "metadata": {},
     "output_type": "execute_result"
    }
   ],
   "source": [
    "print(especies.shape) #Sabendo que temos  10 linhas com 4 colunas\n",
    "qtd_especies[-5:] #Selecionar os ultimas 5"
   ]
  },
  {
   "cell_type": "markdown",
   "metadata": {},
   "source": [
    "<b>d)</b> Crie um array que contenha apenas os tamanhos das espécies e\n",
    "ordene por ordem crescente."
   ]
  },
  {
   "cell_type": "code",
   "execution_count": 14,
   "metadata": {},
   "outputs": [
    {
     "data": {
      "text/plain": [
       "array([22, 16, 14, 13, 10,  7,  5,  5,  2,  1])"
      ]
     },
     "execution_count": 14,
     "metadata": {},
     "output_type": "execute_result"
    }
   ],
   "source": [
    "#Vai fazer a ordenação da coluna 3, na ordem invertida\n",
    "tmh_especies = np.sort(especies[:, 3])[::-1]\n",
    "tmh_especies"
   ]
  },
  {
   "cell_type": "markdown",
   "metadata": {},
   "source": [
    "<b>e)</b> Usando um index boolean crie um array que contém os dados da\n",
    "maior espécie encontrada (considerando o seu tamanho), esse\n",
    "valor corresponde ao valor 22."
   ]
  },
  {
   "cell_type": "code",
   "execution_count": 15,
   "metadata": {},
   "outputs": [
    {
     "data": {
      "text/plain": [
       "array([297,  56,  69,  22])"
      ]
     },
     "execution_count": 15,
     "metadata": {},
     "output_type": "execute_result"
    }
   ],
   "source": [
    "np.where(especies[:,3] == 22) #Retorna que na linha 4 está os dados do tamanho 22\n",
    "tmh_22 = especies[4]\n",
    "tmh_22"
   ]
  },
  {
   "cell_type": "markdown",
   "metadata": {},
   "source": [
    "<b>f)</b> Usando fency index faça um array que contém apenas dados da\n",
    "espécie com ID 297."
   ]
  },
  {
   "cell_type": "code",
   "execution_count": 16,
   "metadata": {},
   "outputs": [
    {
     "name": "stdout",
     "output_type": "stream",
     "text": [
      "[[297  56  69  22]]\n"
     ]
    }
   ],
   "source": [
    "#Selecionará de todos os elementos a linha que contem 297\n",
    "id297 = especies[especies[:, 0] == 297]\n",
    "print(id297)"
   ]
  },
  {
   "cell_type": "markdown",
   "metadata": {},
   "source": [
    "<b>g)</b> Usando <b>np.where()</b> faça um array com a linha com dados\n",
    "correspondentes a espécie com 105 representantes\n",
    "encontrados."
   ]
  },
  {
   "cell_type": "code",
   "execution_count": 17,
   "metadata": {},
   "outputs": [
    {
     "data": {
      "text/plain": [
       "array([692, 105,  72,  16])"
      ]
     },
     "execution_count": 17,
     "metadata": {},
     "output_type": "execute_result"
    }
   ],
   "source": [
    "np.where(especies[:, 1] == 105)\n",
    "especies[7]"
   ]
  },
  {
   "cell_type": "markdown",
   "metadata": {},
   "source": [
    "<b>h)</b> Considere a profundeza em que o espécie foi encontrada\n",
    "substitua valores maiores que 60 com \"Profundo”"
   ]
  },
  {
   "cell_type": "code",
   "execution_count": 18,
   "metadata": {},
   "outputs": [
    {
     "data": {
      "text/plain": [
       "array(['33', '32', '49', '42', 'Profundo', '27', '29', 'Profundo', '35',\n",
       "       'Profundo'], dtype='<U11')"
      ]
     },
     "execution_count": 18,
     "metadata": {},
     "output_type": "execute_result"
    }
   ],
   "source": [
    "profundeza = especies[:,2]\n",
    "np.where(profundeza > 60, \"Profundo\", profundeza)\n",
    "#np.where()"
   ]
  },
  {
   "cell_type": "markdown",
   "metadata": {},
   "source": [
    "<b>i)</b> Adicione mais 2 espécies ao array: </p>[[204, 10, 40, 12], </p>[392, 11, 81, 11]]"
   ]
  },
  {
   "cell_type": "code",
   "execution_count": 36,
   "metadata": {},
   "outputs": [
    {
     "data": {
      "text/plain": [
       "array([[747,  89,  33,   5],\n",
       "       [623, 123,  32,  13],\n",
       "       [501,  22,  49,   2],\n",
       "       [116, 101,  42,  10],\n",
       "       [297,  56,  69,  22],\n",
       "       [613,  64,  27,   7],\n",
       "       [295,  84,  29,  14],\n",
       "       [692, 105,  72,  16],\n",
       "       [229, 103,  35,   5],\n",
       "       [374, 124,  70,   1],\n",
       "       [204,  10,  40,  12],\n",
       "       [392,  11,  81,  11],\n",
       "       [204,  10,  40,  12],\n",
       "       [392,  11,  81,  11],\n",
       "       [204,  10,  40,  12],\n",
       "       [392,  11,  81,  11]])"
      ]
     },
     "execution_count": 36,
     "metadata": {},
     "output_type": "execute_result"
    }
   ],
   "source": [
    "esp1 = np.array([[204, 10, 40, 12]])\n",
    "esp2 = np.array([[392, 11, 81, 11]])\n",
    "novas_especies = np.concatenate((esp1, esp2))\n",
    "especies = np.concatenate((especies, novas_especies), axis = 0)\n",
    "especies"
   ]
  },
  {
   "cell_type": "markdown",
   "metadata": {},
   "source": [
    "<b>j)</b> Adicione mais uma coluna na no array original agora com o\n",
    "número de espécies encontradas com que indica se o animal\n",
    "enxerga ou não: </p>[0, 1, 0, 0, 0, 0, 1, 0, 1, 1, 0]."
   ]
  },
  {
   "cell_type": "code",
   "execution_count": 47,
   "metadata": {},
   "outputs": [
    {
     "data": {
      "text/plain": [
       "array([[747,  89,  33,   5,   0],\n",
       "       [623, 123,  32,  13,   1],\n",
       "       [501,  22,  49,   2,   0],\n",
       "       [116, 101,  42,  10,   0],\n",
       "       [297,  56,  69,  22,   0],\n",
       "       [613,  64,  27,   7,   0],\n",
       "       [295,  84,  29,  14,   1],\n",
       "       [692, 105,  72,  16,   0],\n",
       "       [229, 103,  35,   5,   1],\n",
       "       [374, 124,  70,   1,   1],\n",
       "       [204,  10,  40,  12,   0],\n",
       "       [392,  11,  81,  11,   1],\n",
       "       [204,  10,  40,  12,   0],\n",
       "       [392,  11,  81,  11,   1],\n",
       "       [204,  10,  40,  12,   0],\n",
       "       [392,  11,  81,  11,   0]])"
      ]
     },
     "execution_count": 47,
     "metadata": {},
     "output_type": "execute_result"
    }
   ],
   "source": [
    "enx = np.array([[0, 1, 0, 0, 0, 0, 1, 0, 1, 1, 0, 1, 0, 1, 0, 0]]).reshape(16, 1) #transformação para coluna\n",
    "especies = np.concatenate((especies, enx), axis = 1) #axis de coluna\n",
    "especies"
   ]
  },
  {
   "cell_type": "markdown",
   "metadata": {},
   "source": [
    "<h2> Cáculo com Array"
   ]
  },
  {
   "cell_type": "markdown",
   "metadata": {},
   "source": [
    "<b>1.</b> Considerando o array abaixo, responda:"
   ]
  },
  {
   "cell_type": "code",
   "execution_count": 20,
   "metadata": {},
   "outputs": [],
   "source": [
    "acidentes = np.array([[1, 3, 2],\n",
    "    [0, 1, 0],\n",
    "    [2, 1, 4],\n",
    "    [0, 0, 0],\n",
    "    [1, 1, 0]])"
   ]
  },
  {
   "cell_type": "markdown",
   "metadata": {},
   "source": [
    "<b>a)</b> O cliente que teve acidente abaixo da média nos últimos 2 anos, ganhará um desconto no seu seguro. Identifique-os."
   ]
  },
  {
   "cell_type": "code",
   "execution_count": 59,
   "metadata": {},
   "outputs": [
    {
     "data": {
      "text/plain": [
       "array([[False,  True,  True],\n",
       "       [False, False, False],\n",
       "       [ True, False,  True],\n",
       "       [False, False, False],\n",
       "       [False, False, False]])"
      ]
     },
     "execution_count": 59,
     "metadata": {},
     "output_type": "execute_result"
    }
   ],
   "source": [
    "media = acidentes.mean()\n",
    "acidentes > media"
   ]
  },
  {
   "cell_type": "markdown",
   "metadata": {},
   "source": [
    "<b>b)</b> Qual cliente teve pelo menos 2 anos sem cometer acidentes?"
   ]
  },
  {
   "cell_type": "code",
   "execution_count": 61,
   "metadata": {},
   "outputs": [
    {
     "data": {
      "text/plain": [
       "(array([0], dtype=int64),)"
      ]
     },
     "execution_count": 61,
     "metadata": {},
     "output_type": "execute_result"
    }
   ],
   "source": [
    "np.where(acidentes[:,2] == 2)\n",
    "#Retorna a primeira linha"
   ]
  },
  {
   "cell_type": "markdown",
   "metadata": {},
   "source": [
    "<b>c)</b> Uma professora quer que seus alunos apliquem a função (3x + 2y + x*y) em um conjunto de dados. Ela dá dois arrays aos estudantes e\n",
    "pede que seja feita essa operação."
   ]
  },
  {
   "cell_type": "code",
   "execution_count": 52,
   "metadata": {},
   "outputs": [
    {
     "name": "stdout",
     "output_type": "stream",
     "text": [
      "[ 5 11 19 29 41]\n",
      "[ 55  71  89 109 131]\n"
     ]
    }
   ],
   "source": [
    "def operacao(x):\n",
    "    return x**2 + 3*x + 1\n",
    "\n",
    "vetor_funcao = np.vectorize(operacao) #transforma a função num vetor\n",
    "array1 = np.array([1, 2, 3, 4, 5])\n",
    "array2 = np.array([6, 7, 8, 9, 10])\n",
    "\n",
    "resultado1 = vetor_funcao(array1)\n",
    "resultado2 = vetor_funcao(array2)\n",
    "print(resultado1)\n",
    "print(resultado2)  "
   ]
  },
  {
   "cell_type": "markdown",
   "metadata": {},
   "source": [
    "<b>d)</b> A mesma professora percebeu que houve um erro em todas as provas dos estudantes e esqueceu de anotar a nota de trabalhos\n",
    "apresentados durante o semestre. Já que foi feito em grupo ela vai\n",
    "adicionar a mesma nota para todos os estudantes. No array cada\n",
    "estudante representa uma linha e cada coluna uma prova. Adicione\n",
    "para cada prova de cada estudante os valores: 1, 2, 1."
   ]
  },
  {
   "cell_type": "code",
   "execution_count": 58,
   "metadata": {},
   "outputs": [
    {
     "data": {
      "text/plain": [
       "array([[['1', '2', '1']],\n",
       "\n",
       "       [['aluno 1', 'aluno 2', 'aluno 3']]], dtype='<U11')"
      ]
     },
     "execution_count": 58,
     "metadata": {},
     "output_type": "execute_result"
    }
   ],
   "source": [
    "provas = np.array([[1, 2, 1]])\n",
    "alunos = np.array([[\"aluno 1\", \"aluno 2\", \"aluno 3\"]])\n",
    "\n",
    "notas = np.array([provas, alunos])\n",
    "notas"
   ]
  }
 ],
 "metadata": {
  "kernelspec": {
   "display_name": "base",
   "language": "python",
   "name": "python3"
  },
  "language_info": {
   "codemirror_mode": {
    "name": "ipython",
    "version": 3
   },
   "file_extension": ".py",
   "mimetype": "text/x-python",
   "name": "python",
   "nbconvert_exporter": "python",
   "pygments_lexer": "ipython3",
   "version": "3.11.7"
  }
 },
 "nbformat": 4,
 "nbformat_minor": 2
}
