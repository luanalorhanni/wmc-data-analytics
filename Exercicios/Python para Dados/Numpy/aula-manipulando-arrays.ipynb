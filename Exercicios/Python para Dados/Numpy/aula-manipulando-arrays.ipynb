{
 "cells": [
  {
   "cell_type": "code",
   "execution_count": 2,
   "metadata": {},
   "outputs": [],
   "source": [
    "import numpy as np"
   ]
  },
  {
   "cell_type": "code",
   "execution_count": 3,
   "metadata": {},
   "outputs": [
    {
     "data": {
      "text/plain": [
       "6"
      ]
     },
     "execution_count": 3,
     "metadata": {},
     "output_type": "execute_result"
    }
   ],
   "source": [
    "#index em um array de 1 dimensão\n",
    "arr = np.array([2, 4, 6, 8])\n",
    "arr[2]"
   ]
  },
  {
   "cell_type": "code",
   "execution_count": 4,
   "metadata": {},
   "outputs": [
    {
     "name": "stdout",
     "output_type": "stream",
     "text": [
      "[[4 5 6 7]\n",
      " [3 9 2 1]]\n",
      "9\n",
      "[5 9]\n"
     ]
    }
   ],
   "source": [
    "#index em um array de 2 dimensões\n",
    "arr0 = np.array([4, 5, 6, 7])\n",
    "arr1 = np.array([3, 9, 2, 1])\n",
    "arr2 = np.array([arr0, arr1])\n",
    "print(arr2)\n",
    "print(arr2[1, 1]) #buscará o elemento 1 no array 1\n",
    "print(arr2[:, 1]) #buscará todos os elementos 1 do na coluna 1 dos arrays"
   ]
  },
  {
   "cell_type": "markdown",
   "metadata": {},
   "source": [
    "<b>Ordenação de um array</b> </p> Axis 0 = Colunas ↑ </p> Axis 1 = Linhas →"
   ]
  },
  {
   "cell_type": "code",
   "execution_count": 5,
   "metadata": {},
   "outputs": [
    {
     "data": {
      "text/plain": [
       "array([[3, 5, 2, 1],\n",
       "       [4, 9, 6, 7]])"
      ]
     },
     "execution_count": 5,
     "metadata": {},
     "output_type": "execute_result"
    }
   ],
   "source": [
    "np.sort(arr2, axis = 0)"
   ]
  },
  {
   "cell_type": "code",
   "execution_count": 6,
   "metadata": {},
   "outputs": [
    {
     "data": {
      "text/plain": [
       "array([[4, 5, 6, 7],\n",
       "       [1, 2, 3, 9]])"
      ]
     },
     "execution_count": 6,
     "metadata": {},
     "output_type": "execute_result"
    }
   ],
   "source": [
    "np.sort(arr2, axis = 1)"
   ]
  },
  {
   "cell_type": "code",
   "execution_count": 7,
   "metadata": {},
   "outputs": [
    {
     "data": {
      "text/plain": [
       "array([[ 7, 18, 29, 22],\n",
       "       [25, 15, 14, 13],\n",
       "       [10, 26,  4, 26],\n",
       "       [ 6, 20,  8,  3]])"
      ]
     },
     "execution_count": 7,
     "metadata": {},
     "output_type": "execute_result"
    }
   ],
   "source": [
    "bingo = np.array([[7, 18, 29, 22],\n",
    "                [25, 15, 14, 13],\n",
    "                [10, 26,  4, 26],\n",
    "                [6, 20,  8, 3]])\n",
    "bingo"
   ]
  },
  {
   "cell_type": "code",
   "execution_count": 8,
   "metadata": {},
   "outputs": [
    {
     "data": {
      "text/plain": [
       "array([[18],\n",
       "       [15],\n",
       "       [26],\n",
       "       [20]])"
      ]
     },
     "execution_count": 8,
     "metadata": {},
     "output_type": "execute_result"
    }
   ],
   "source": [
    "#Pegar a segunda coluna, e transformá-la em 1 coluna com 4 linhas\n",
    "bingo[:, 1].reshape((4,1))"
   ]
  },
  {
   "cell_type": "code",
   "execution_count": 9,
   "metadata": {},
   "outputs": [
    {
     "data": {
      "text/plain": [
       "array([[ 7, 18, 22, 29],\n",
       "       [13, 14, 15, 25],\n",
       "       [ 4, 10, 26, 26],\n",
       "       [ 3,  6,  8, 20]])"
      ]
     },
     "execution_count": 9,
     "metadata": {},
     "output_type": "execute_result"
    }
   ],
   "source": [
    "#Sort do eixo vertical, axis 1\n",
    "np.sort(bingo) "
   ]
  },
  {
   "cell_type": "code",
   "execution_count": 10,
   "metadata": {},
   "outputs": [
    {
     "data": {
      "text/plain": [
       "array([[ 6, 15,  4,  3],\n",
       "       [ 7, 18,  8, 13],\n",
       "       [10, 20, 14, 22],\n",
       "       [25, 26, 29, 26]])"
      ]
     },
     "execution_count": 10,
     "metadata": {},
     "output_type": "execute_result"
    }
   ],
   "source": [
    "#Sort do eixo horizontal, axis 0\n",
    "np.sort(bingo, axis = 0) "
   ]
  },
  {
   "cell_type": "markdown",
   "metadata": {},
   "source": [
    "Indexação sofisticada (fancy indexing) e máscara (mask) em array 2D."
   ]
  },
  {
   "cell_type": "code",
   "execution_count": 11,
   "metadata": {},
   "outputs": [
    {
     "data": {
      "text/plain": [
       "array([[4, 5, 6, 7],\n",
       "       [3, 9, 2, 1]])"
      ]
     },
     "execution_count": 11,
     "metadata": {},
     "output_type": "execute_result"
    }
   ],
   "source": [
    "arr2 = np.array([arr0, arr1])\n",
    "arr2"
   ]
  },
  {
   "cell_type": "code",
   "execution_count": 12,
   "metadata": {},
   "outputs": [
    {
     "data": {
      "text/plain": [
       "array([[ True, False,  True, False],\n",
       "       [False, False,  True, False]])"
      ]
     },
     "execution_count": 12,
     "metadata": {},
     "output_type": "execute_result"
    }
   ],
   "source": [
    "#Qual dos valores são divisídeis por dois?\n",
    "arr2[:,] % 2 == 0"
   ]
  },
  {
   "cell_type": "markdown",
   "metadata": {},
   "source": [
    "<b>Boolean Mask:</b> Retorna um array de verdadeiros e falsos. </p> <b>Fancy indexing:</b> Retorna os valores do array quando passado a máscara. </p><b>np.where():</b> Retorna um array de índices, criando uma matriz com base em os elementos correspondentes a condição."
   ]
  },
  {
   "cell_type": "code",
   "execution_count": 13,
   "metadata": {},
   "outputs": [
    {
     "data": {
      "text/plain": [
       "array([3, 9, 2, 1])"
      ]
     },
     "execution_count": 13,
     "metadata": {},
     "output_type": "execute_result"
    }
   ],
   "source": [
    "arr1"
   ]
  },
  {
   "cell_type": "code",
   "execution_count": 14,
   "metadata": {},
   "outputs": [
    {
     "name": "stdout",
     "output_type": "stream",
     "text": [
      "[False False  True False]\n"
     ]
    },
    {
     "data": {
      "text/plain": [
       "array([2])"
      ]
     },
     "execution_count": 14,
     "metadata": {},
     "output_type": "execute_result"
    }
   ],
   "source": [
    "mask = arr1 % 2 == 0\n",
    "print(mask)\n",
    "arr1[mask] #Retornará somente o valor correspondente a verificação"
   ]
  },
  {
   "cell_type": "code",
   "execution_count": 15,
   "metadata": {},
   "outputs": [
    {
     "data": {
      "text/plain": [
       "array([[4, 5, 6, 7],\n",
       "       [3, 9, 2, 1]])"
      ]
     },
     "execution_count": 15,
     "metadata": {},
     "output_type": "execute_result"
    }
   ],
   "source": [
    "arr2"
   ]
  },
  {
   "cell_type": "code",
   "execution_count": 16,
   "metadata": {},
   "outputs": [
    {
     "data": {
      "text/plain": [
       "(array([0, 0, 1], dtype=int64), array([0, 2, 2], dtype=int64))"
      ]
     },
     "execution_count": 16,
     "metadata": {},
     "output_type": "execute_result"
    }
   ],
   "source": [
    "np.where(arr2[:, ] % 2 == 0)\n",
    "#primeiro array localiza as linhas, segundo localiza as colunas\n",
    "#output - linha 0 coluna 0, linha 0 coluna 2, linha 1 coluna 2"
   ]
  },
  {
   "cell_type": "markdown",
   "metadata": {},
   "source": [
    "Buscar com where e substituir"
   ]
  },
  {
   "cell_type": "code",
   "execution_count": 17,
   "metadata": {},
   "outputs": [
    {
     "data": {
      "text/plain": [
       "array([['', '5', '', '7'],\n",
       "       ['3', '9', '', '1']], dtype='<U11')"
      ]
     },
     "execution_count": 17,
     "metadata": {},
     "output_type": "execute_result"
    }
   ],
   "source": [
    "np.where(arr2 % 2 == 0, \"\", arr2)\n",
    "#ao colocar o nome do array, irá ficar o valor normal\n",
    "#pela hierarquia de conversão, o array foi convertido para string"
   ]
  },
  {
   "cell_type": "markdown",
   "metadata": {},
   "source": [
    "<b>Adicionando e removendo dados</b> </p>Concatenando linhas </p>Concatenando Colunas"
   ]
  },
  {
   "cell_type": "code",
   "execution_count": 21,
   "metadata": {},
   "outputs": [
    {
     "data": {
      "text/plain": [
       "array([[2, 0],\n",
       "       [7, 7],\n",
       "       [6, 1]])"
      ]
     },
     "execution_count": 21,
     "metadata": {},
     "output_type": "execute_result"
    }
   ],
   "source": [
    "arr4 = np.random.randint(10, size = (3, 2))\n",
    "arr4"
   ]
  },
  {
   "cell_type": "code",
   "execution_count": 20,
   "metadata": {},
   "outputs": [
    {
     "data": {
      "text/plain": [
       "array([['Luana', 'Murilo']], dtype='<U6')"
      ]
     },
     "execution_count": 20,
     "metadata": {},
     "output_type": "execute_result"
    }
   ],
   "source": [
    "arr5 = np.array([[\"Luana\", \"Murilo\"]])\n",
    "arr5"
   ]
  },
  {
   "cell_type": "code",
   "execution_count": 23,
   "metadata": {},
   "outputs": [
    {
     "data": {
      "text/plain": [
       "array([['2', '0'],\n",
       "       ['7', '7'],\n",
       "       ['6', '1'],\n",
       "       ['Luana', 'Murilo']], dtype='<U11')"
      ]
     },
     "execution_count": 23,
     "metadata": {},
     "output_type": "execute_result"
    }
   ],
   "source": [
    "np.concatenate((arr4, arr5))\n",
    "#String será o tipo dominante"
   ]
  },
  {
   "cell_type": "code",
   "execution_count": 25,
   "metadata": {},
   "outputs": [
    {
     "data": {
      "text/plain": [
       "array([['Uva'],\n",
       "       ['Abacaxi'],\n",
       "       ['Laranja']], dtype='<U7')"
      ]
     },
     "execution_count": 25,
     "metadata": {},
     "output_type": "execute_result"
    }
   ],
   "source": [
    "arr6 = np.array([[\"Uva\", \"Abacaxi\", \"Laranja\"]]).reshape((3, 1)) \n",
    "#Tranformar num array de 3 linhas com 1 coluna\n",
    "arr6"
   ]
  },
  {
   "cell_type": "code",
   "execution_count": 26,
   "metadata": {},
   "outputs": [
    {
     "data": {
      "text/plain": [
       "array([['2', '0', 'Uva'],\n",
       "       ['7', '7', 'Abacaxi'],\n",
       "       ['6', '1', 'Laranja']], dtype='<U11')"
      ]
     },
     "execution_count": 26,
     "metadata": {},
     "output_type": "execute_result"
    }
   ],
   "source": [
    "np.concatenate((arr4, arr6), axis=1)"
   ]
  },
  {
   "cell_type": "markdown",
   "metadata": {},
   "source": [
    "Deletando com np.delete()"
   ]
  },
  {
   "cell_type": "code",
   "execution_count": 27,
   "metadata": {},
   "outputs": [
    {
     "data": {
      "text/plain": [
       "array([['Uva'],\n",
       "       ['Abacaxi']], dtype='<U7')"
      ]
     },
     "execution_count": 27,
     "metadata": {},
     "output_type": "execute_result"
    }
   ],
   "source": [
    "np.delete(arr6, 2, axis = 0)\n",
    "#Irá deletar a linha 2 pelo axis 0"
   ]
  },
  {
   "cell_type": "code",
   "execution_count": 32,
   "metadata": {},
   "outputs": [
    {
     "data": {
      "text/plain": [
       "array([[2],\n",
       "       [7],\n",
       "       [6]])"
      ]
     },
     "execution_count": 32,
     "metadata": {},
     "output_type": "execute_result"
    }
   ],
   "source": [
    "np.delete(arr4, 1, axis = 1)\n",
    "#Irá deletar a coluna 1 pelo axis 0"
   ]
  },
  {
   "cell_type": "markdown",
   "metadata": {},
   "source": [
    "<b>Cálculos com Arrays</b> </p> Métodos de agregração de dados: .sum(), .min(), .max(), .mean(), .cumsum()"
   ]
  },
  {
   "cell_type": "code",
   "execution_count": 34,
   "metadata": {},
   "outputs": [
    {
     "data": {
      "text/plain": [
       "array([[7, 8, 2, 3],\n",
       "       [2, 7, 8, 3],\n",
       "       [2, 9, 3, 9],\n",
       "       [3, 0, 8, 6],\n",
       "       [3, 8, 1, 3],\n",
       "       [4, 1, 4, 4],\n",
       "       [3, 9, 5, 4],\n",
       "       [3, 8, 1, 0],\n",
       "       [0, 6, 0, 6],\n",
       "       [3, 1, 3, 6]])"
      ]
     },
     "execution_count": 34,
     "metadata": {},
     "output_type": "execute_result"
    }
   ],
   "source": [
    "arr7 = np.random.randint(10, size = (10, 4))\n",
    "arr7"
   ]
  },
  {
   "cell_type": "code",
   "execution_count": 35,
   "metadata": {},
   "outputs": [
    {
     "data": {
      "text/plain": [
       "166"
      ]
     },
     "execution_count": 35,
     "metadata": {},
     "output_type": "execute_result"
    }
   ],
   "source": [
    "arr7.sum()"
   ]
  },
  {
   "cell_type": "code",
   "execution_count": 36,
   "metadata": {},
   "outputs": [
    {
     "data": {
      "text/plain": [
       "array([30, 57, 35, 44])"
      ]
     },
     "execution_count": 36,
     "metadata": {},
     "output_type": "execute_result"
    }
   ],
   "source": [
    "arr7.sum(axis = 0) #soma as colunas"
   ]
  },
  {
   "cell_type": "code",
   "execution_count": 37,
   "metadata": {},
   "outputs": [
    {
     "data": {
      "text/plain": [
       "array([20, 20, 23, 17, 15, 13, 21, 12, 12, 13])"
      ]
     },
     "execution_count": 37,
     "metadata": {},
     "output_type": "execute_result"
    }
   ],
   "source": [
    "arr7.sum(axis = 1) #soma as linhas"
   ]
  },
  {
   "cell_type": "code",
   "execution_count": 38,
   "metadata": {},
   "outputs": [
    {
     "data": {
      "text/plain": [
       "0"
      ]
     },
     "execution_count": 38,
     "metadata": {},
     "output_type": "execute_result"
    }
   ],
   "source": [
    "arr7.min()"
   ]
  },
  {
   "cell_type": "code",
   "execution_count": 39,
   "metadata": {},
   "outputs": [
    {
     "data": {
      "text/plain": [
       "9"
      ]
     },
     "execution_count": 39,
     "metadata": {},
     "output_type": "execute_result"
    }
   ],
   "source": [
    "arr7.max()"
   ]
  },
  {
   "cell_type": "code",
   "execution_count": 41,
   "metadata": {},
   "outputs": [
    {
     "data": {
      "text/plain": [
       "array([7, 9, 8, 9])"
      ]
     },
     "execution_count": 41,
     "metadata": {},
     "output_type": "execute_result"
    }
   ],
   "source": [
    "arr7.max(axis=0) #máximo de cada coluna"
   ]
  },
  {
   "cell_type": "code",
   "execution_count": 42,
   "metadata": {},
   "outputs": [
    {
     "data": {
      "text/plain": [
       "4.15"
      ]
     },
     "execution_count": 42,
     "metadata": {},
     "output_type": "execute_result"
    }
   ],
   "source": [
    "arr7.mean()"
   ]
  },
  {
   "cell_type": "code",
   "execution_count": 43,
   "metadata": {},
   "outputs": [
    {
     "data": {
      "text/plain": [
       "array([3. , 5.7, 3.5, 4.4])"
      ]
     },
     "execution_count": 43,
     "metadata": {},
     "output_type": "execute_result"
    }
   ],
   "source": [
    "arr7.mean(axis=0)"
   ]
  },
  {
   "cell_type": "markdown",
   "metadata": {},
   "source": [
    "Keedims - Manter as mesmas dimensões"
   ]
  },
  {
   "cell_type": "code",
   "execution_count": 44,
   "metadata": {},
   "outputs": [
    {
     "data": {
      "text/plain": [
       "array([[3. , 5.7, 3.5, 4.4]])"
      ]
     },
     "execution_count": 44,
     "metadata": {},
     "output_type": "execute_result"
    }
   ],
   "source": [
    "9arr7.mean(axis=0, keepdims=True) #Mantem a dimensão"
   ]
  },
  {
   "cell_type": "markdown",
   "metadata": {},
   "source": [
    "Soma culumativa - cumsum"
   ]
  },
  {
   "cell_type": "code",
   "execution_count": 45,
   "metadata": {},
   "outputs": [
    {
     "data": {
      "text/plain": [
       "array([[ 7,  8,  2,  3],\n",
       "       [ 9, 15, 10,  6],\n",
       "       [11, 24, 13, 15],\n",
       "       [14, 24, 21, 21],\n",
       "       [17, 32, 22, 24],\n",
       "       [21, 33, 26, 28],\n",
       "       [24, 42, 31, 32],\n",
       "       [27, 50, 32, 32],\n",
       "       [27, 56, 32, 38],\n",
       "       [30, 57, 35, 44]])"
      ]
     },
     "execution_count": 45,
     "metadata": {},
     "output_type": "execute_result"
    }
   ],
   "source": [
    "arr7.cumsum(axis=0) #por colunas"
   ]
  },
  {
   "cell_type": "markdown",
   "metadata": {},
   "source": [
    "<b>Operações com Vetorização</b> </p> Ao realizar a soma de elementos em um array utilizando o Numpy, a operação não ocorre de forma individual para cada elemento, em vez disso, ela é realizada de maneira simultânea para todos os elementos do array."
   ]
  },
  {
   "cell_type": "code",
   "execution_count": 47,
   "metadata": {},
   "outputs": [
    {
     "data": {
      "text/plain": [
       "array([[ 6,  8],\n",
       "       [10, 12]])"
      ]
     },
     "execution_count": 47,
     "metadata": {},
     "output_type": "execute_result"
    }
   ],
   "source": [
    "arr1_2d = np.array([[1, 2], [3, 4]])\n",
    "arr2_2d = np.array([[5, 6], [7, 8]])\n",
    "\n",
    "arr1_2d + arr2_2d\n",
    "#Soma cada elemento do primeiro array com o segundo elemento do segundo array"
   ]
  },
  {
   "cell_type": "code",
   "execution_count": 48,
   "metadata": {},
   "outputs": [
    {
     "data": {
      "text/plain": [
       "array([[ 5, 12],\n",
       "       [21, 32]])"
      ]
     },
     "execution_count": 48,
     "metadata": {},
     "output_type": "execute_result"
    }
   ],
   "source": [
    "arr1_2d * arr2_2d\n",
    "#Multiplica cada elemento do primeiro array com o segundo elemento do segundo array"
   ]
  },
  {
   "cell_type": "code",
   "execution_count": 50,
   "metadata": {},
   "outputs": [
    {
     "data": {
      "text/plain": [
       "array([[False, False],\n",
       "       [False,  True]])"
      ]
     },
     "execution_count": 50,
     "metadata": {},
     "output_type": "execute_result"
    }
   ],
   "source": [
    "arr1_2d  > 3\n",
    "#Retorna valores booleanos"
   ]
  },
  {
   "cell_type": "markdown",
   "metadata": {},
   "source": [
    "<b>Np.vectorize:</b> Transforma funções Python regulares em funções vetorizadas. Funciona como for, pois percorre os elementos em forma de vetores."
   ]
  },
  {
   "cell_type": "code",
   "execution_count": 68,
   "metadata": {},
   "outputs": [
    {
     "data": {
      "text/plain": [
       "False"
      ]
     },
     "execution_count": 68,
     "metadata": {},
     "output_type": "execute_result"
    }
   ],
   "source": [
    "array = np.array([[\"luana\", \"lua\", \"lulu\", \"moonana\", \"lubtsuki\"]])\n",
    "len(array) > 5"
   ]
  },
  {
   "cell_type": "code",
   "execution_count": 69,
   "metadata": {},
   "outputs": [
    {
     "data": {
      "text/plain": [
       "array([[False, False, False,  True,  True]])"
      ]
     },
     "execution_count": 69,
     "metadata": {},
     "output_type": "execute_result"
    }
   ],
   "source": [
    "vetor = np.vectorize(len) #vetorizar os valores totais dos elementos, contagem de cada letra\n",
    "vetor(array) > 5"
   ]
  },
  {
   "cell_type": "code",
   "execution_count": 71,
   "metadata": {},
   "outputs": [
    {
     "data": {
      "text/plain": [
       "array([ 5, 11, 19, 29, 41])"
      ]
     },
     "execution_count": 71,
     "metadata": {},
     "output_type": "execute_result"
    }
   ],
   "source": [
    "def operacao(x):\n",
    "    return x**2 + 3*x + 1\n",
    "\n",
    "vetor_funcao = np.vectorize(operacao) #transforma a função num vetor\n",
    "array = np.array([1, 2, 3, 4, 5])\n",
    "\n",
    "resultado = vetor_funcao(array)\n",
    "resultado"
   ]
  },
  {
   "cell_type": "markdown",
   "metadata": {},
   "source": [
    "<b>Broadcasting:</b> Capacidade do NumPy de lidar com operações entre arrays de diferentes formas e tamanhos durante operações artiméticas. Mesmo quando as dimensões entre arrays não forem as mesmas."
   ]
  }
 ],
 "metadata": {
  "kernelspec": {
   "display_name": "base",
   "language": "python",
   "name": "python3"
  },
  "language_info": {
   "codemirror_mode": {
    "name": "ipython",
    "version": 3
   },
   "file_extension": ".py",
   "mimetype": "text/x-python",
   "name": "python",
   "nbconvert_exporter": "python",
   "pygments_lexer": "ipython3",
   "version": "3.11.7"
  }
 },
 "nbformat": 4,
 "nbformat_minor": 2
}
