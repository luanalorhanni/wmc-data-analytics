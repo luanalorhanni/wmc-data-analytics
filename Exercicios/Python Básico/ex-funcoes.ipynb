{
 "cells": [
  {
   "cell_type": "markdown",
   "metadata": {},
   "source": [
    "<b>Exercícios de Funções - Módulo de Python Básico</b>"
   ]
  },
  {
   "cell_type": "markdown",
   "metadata": {},
   "source": [
    "<b>Exercício 1:</b> Faça um programa com uma função que necessite de três argumentos, e que forneça a soma desses três argumentos."
   ]
  },
  {
   "cell_type": "code",
   "execution_count": 13,
   "metadata": {},
   "outputs": [
    {
     "name": "stdout",
     "output_type": "stream",
     "text": [
      "A soma dos valores é: 15.0\n"
     ]
    }
   ],
   "source": [
    "def soma(x, y, z):\n",
    "    return (x + y + z)\n",
    "    \n",
    "def interacao():\n",
    "    x = float(input(\"digite o valor de x \\n\"))\n",
    "    y = float(input(\"digite o valor de y \\n\"))\n",
    "    z = float(input(\"digite o valor de z \\n\"))\n",
    "\n",
    "    resultado = soma(x, y, z)\n",
    "    print(f'A soma dos valores é: {resultado}')\n",
    "\n",
    "interacao()"
   ]
  },
  {
   "cell_type": "markdown",
   "metadata": {},
   "source": [
    "<b>Exercício 2:</b> Reverso do número Faça uma função que retorne o reverso de um número inteiro informado. Por exemplo: 127-> 721."
   ]
  },
  {
   "cell_type": "code",
   "execution_count": 5,
   "metadata": {},
   "outputs": [
    {
     "name": "stdout",
     "output_type": "stream",
     "text": [
      "986\n"
     ]
    }
   ],
   "source": [
    "def reverso(n):\n",
    "    return n[::-1]\n",
    "\n",
    "n = input(\"digite um número para invertê-lo:\\n\")\n",
    "\n",
    "resultado = reverso(n)\n",
    "print(resultado)"
   ]
  },
  {
   "cell_type": "markdown",
   "metadata": {},
   "source": [
    "<b>Exercício 3:</b> Escreva um script que pergunta ao usuário se ele deseja converter uma temperatura de grau Celsius para Fahrenheit ou vice-versa. Para cada opção, crie uma função."
   ]
  },
  {
   "cell_type": "code",
   "execution_count": 12,
   "metadata": {},
   "outputs": [
    {
     "name": "stdout",
     "output_type": "stream",
     "text": [
      "Conversão de temperatura\n",
      "        C - Converter de Celsius para Fahrenheit\n",
      "        F - Converter de Fahrenheit para Celsius\n",
      "A conversão de 32.0° para °F é de 89.6°F\n"
     ]
    }
   ],
   "source": [
    "def celsius(temp):\n",
    "    conversao_cf = (temp * 1.8) + 32\n",
    "    print(f'A conversão de {temp}° para °F é de {conversao_cf}°F')\n",
    "    \n",
    "def fahrenheit(temp):\n",
    "    conversao_fc = (temp - 32) / 1.8\n",
    "    print(f'A conversão de {temp}° para °C é de {conversao_fc}°C')\n",
    "\n",
    "def titulo():\n",
    "    print('''Conversão de temperatura\n",
    "        C - Converter de Celsius para Fahrenheit\n",
    "        F - Converter de Fahrenheit para Celsius''')\n",
    "\n",
    "    opcao = input('Digite a conversão desejada: \\n')\n",
    "    temp = float(input('Digite o valor da temperatura: \\n'))\n",
    "    \n",
    "    if opcao == 'C':\n",
    "        celsius(temp)\n",
    "    else:\n",
    "        fahrenheit(temp)\n",
    "\n",
    "titulo()"
   ]
  },
  {
   "cell_type": "markdown",
   "metadata": {},
   "source": [
    "<b>Exercício 4:</b> Crie um programa que leia quanto dinheiro uma pessoa tem na carteira, e calcule quanto poderia comprar de cada moeda estrangeira. Considere a tabela de conversão abaixo: Dólar Americano: R$4,91 | Peso Argentino: R$0,02 | Dólar Australiano: R$3,18 | Dólar Canadense: R$3,64 | Franco Suiço: R$0,42 | Euro: R$5,36 | Libra esterlina: R$6,21"
   ]
  },
  {
   "cell_type": "code",
   "execution_count": 22,
   "metadata": {},
   "outputs": [
    {
     "name": "stdout",
     "output_type": "stream",
     "text": [
      "Em Dólar Americano, você poderia gastar até $4.07 no respectivo país.\n",
      "Em Peso Argentino, você poderia gastar até $1000.00 no respectivo país.\n",
      "Em Dólar Australiano, você poderia gastar até $6.29 no respectivo país.\n",
      "Em Dólar Canadense, você poderia gastar até $5.49 no respectivo país.\n",
      "Em Franço Suíço, você poderia gastar até $47.62 no respectivo país.\n",
      "Em Euro, você poderia gastar até $3.73 no respectivo país.\n",
      "Em Libras Esterlinas, você poderia gastar até $3.22 no respectivo país.\n"
     ]
    }
   ],
   "source": [
    "saldo = float(input('Qual seu saldo atual em reais (R$)? \\n'))\n",
    "\n",
    "def americano(saldo):\n",
    "    conversao_america = saldo / 4.91\n",
    "    return f'{conversao_america:.2f}'\n",
    "    \n",
    "def peso(saldo):\n",
    "    conversao_peso = saldo / 0.02\n",
    "    return f'{conversao_peso:.2f}'\n",
    "\n",
    "def australiano(saldo):\n",
    "    conversao_aust = saldo / 3.18\n",
    "    return f'{conversao_aust:.2f}'\n",
    "    \n",
    "def canadense(saldo):\n",
    "    conversao_can = saldo / 3.64\n",
    "    return f'{conversao_can:.2f}'\n",
    "    \n",
    "def franco(saldo):\n",
    "    conversao_fran = saldo / 0.42\n",
    "    return f'{conversao_fran:.2f}'\n",
    "    \n",
    "def euro(saldo):\n",
    "    conversao_euro = saldo / 5.36\n",
    "    return f'{conversao_euro:.2f}'\n",
    "    \n",
    "def libra(saldo):\n",
    "    conversao_libra = saldo / 6.21\n",
    "    return f'{conversao_libra:.2f}'\n",
    "    \n",
    "moedas = {\n",
    "    'Dólar Americano':americano,\n",
    "    'Peso Argentino':peso,\n",
    "    'Dólar Australiano':australiano,\n",
    "    'Dólar Canadense':canadense,\n",
    "    'Franço Suíço':franco,\n",
    "    'Euro':euro,\n",
    "    'Libras Esterlinas':libra\n",
    "    }\n",
    "\n",
    "tipo = moedas.keys()\n",
    "moeda = moedas.values()\n",
    "\n",
    "for tipo, moeda in moedas.items():\n",
    "    print(f'Em {tipo}, você poderia gastar até ${moeda(saldo)} no respectivo país.')\n",
    "    "
   ]
  },
  {
   "cell_type": "markdown",
   "metadata": {},
   "source": [
    "<b>Exercício 5:</b> Crie uma função chamada contar_vogais que recebe uma string como parâmetro. Implemente a lógica para contar o número de vogais na string e retorne o total de vogais. Solicite ao usuário para inserir uma frase e utilize a função para contar as vogais.\n"
   ]
  },
  {
   "cell_type": "code",
   "execution_count": 8,
   "metadata": {},
   "outputs": [
    {
     "name": "stdout",
     "output_type": "stream",
     "text": [
      "As vogais presentes na frase \"bootcamp data analytics\" e quantidade de vezes que aparecem é:\n",
      "    {'a': 5, 'e': 0, 'i': 1, 'o': 2, 'u': 0}\n"
     ]
    }
   ],
   "source": [
    "frase = input('Digite uma frase para contarmos as vogais...\\n')\n",
    "frase = frase.lower() #método para diferenciar das minúsculas\n",
    "\n",
    "def contar_vogais(frase):\n",
    "    vogais = 'aeiou'\n",
    "    return {vogal: frase.count(vogal) for vogal in vogais} \n",
    "    #laço para percorrer a frase com for in line com dic comprehension\n",
    "\n",
    "   \n",
    "contagem = contar_vogais(frase)\n",
    "print(f'''As vogais presentes na frase \"{frase}\" e quantidade de vezes que aparecem é:\n",
    "    {contagem}''')\n"
   ]
  },
  {
   "cell_type": "markdown",
   "metadata": {},
   "source": [
    "<b>Exercício 6:</b> Vamos construir um jogo de forca. O programa escolherá aleatoriamente uma palavra secreta de uma lista predefinida. A palavra secreta será representada por espaços em branco, um para cada letra da palavra. O jogador terá um número limitado de 6 tentativas. Em cada tentativa, o jogador pode fornececer uma letra. Se a letra estiver presente na palavra secreta, ela será revelada nas posições correspondentes. Se a letra não estiver na palavram uma mensagem de erro deverá ser informada. Após um número máximo de erros, o jogador perde. O jogo continua até que o jogador adivinhe a palavra ou exceda o número máximo de tentativas. Você precisará importar uma biblioteca para resolver esse exercício."
   ]
  },
  {
   "cell_type": "code",
   "execution_count": 1,
   "metadata": {},
   "outputs": [
    {
     "name": "stdout",
     "output_type": "stream",
     "text": [
      "Palavra secreta: _ _ _ _ _ _ _\n",
      "          Tentativas restantes: 6\n",
      "Boa! Você adivinhou uma letra.\n",
      "\n",
      " Você perdeu! A palavra era: postgre\n",
      "Palavra secreta: _ _ _ _ _ _ _\n",
      "          Tentativas restantes: 6\n"
     ]
    }
   ],
   "source": [
    "import random #importar biblioteca que aleatoriza escolhas\n",
    "\n",
    "palavras = ['python', 'java', 'javascript','postgre','nodejs','django','ruby']\n",
    "palavra_secreta = random.choice(palavras) #escolhe um item aleatorio\n",
    "palavra_escondida = [\"_\" for _ in palavra_secreta]\n",
    "\n",
    "#variaveis\n",
    "tentativas = 6\n",
    "letras_adivinhadas = []\n",
    "\n",
    "# função para exibir o estado atual da palavra\n",
    "def exibir_palavra_escondida():\n",
    "    return \" \".join(palavra_escondida)\n",
    "\n",
    "def verificar_letra(palavra_secreta):\n",
    "    if letra in palavra_secreta:\n",
    "            for index, char in enumerate(palavra_secreta):\n",
    "                if char == letra:\n",
    "                    palavra_escondida[index] = letra\n",
    "            print(\"Boa! Você adivinhou uma letra.\")\n",
    "    else:\n",
    "        tentativas_restantes -= 1\n",
    "        print(\"Essa letra não está na palavra.\")\n",
    "            \n",
    "def acertou(palavra_secreta):\n",
    "    if \"_\" not in palavra_escondida:\n",
    "        print(f\"\\n Parabéns! Você adivinhou a palavra: {palavra_secreta}\")\n",
    "        breakpoint\n",
    "    else:\n",
    "        print(f\"\\n Você perdeu! A palavra era: {palavra_secreta}\")\n",
    "\n",
    "#loop do jogo\n",
    "while tentativas > 0:\n",
    "    print(f'''Palavra secreta: {exibir_palavra_escondida()}\n",
    "          Tentativas restantes: {tentativas}''')\n",
    "    \n",
    "    letra = input('Digite uma letra:\\n')\n",
    "    letras_adivinhadas.append(letra) #incluir as letras adivinhdas na lista\n",
    "    \n",
    "    verificar_letra(palavra_secreta)\n",
    "    acertou(palavra_secreta)"
   ]
  }
 ],
 "metadata": {
  "kernelspec": {
   "display_name": "base",
   "language": "python",
   "name": "python3"
  },
  "language_info": {
   "codemirror_mode": {
    "name": "ipython",
    "version": 3
   },
   "file_extension": ".py",
   "mimetype": "text/x-python",
   "name": "python",
   "nbconvert_exporter": "python",
   "pygments_lexer": "ipython3",
   "version": "3.11.7"
  }
 },
 "nbformat": 4,
 "nbformat_minor": 2
}
